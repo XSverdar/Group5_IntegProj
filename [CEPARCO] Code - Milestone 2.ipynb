{
  "cells": [
    {
      "cell_type": "markdown",
      "metadata": {
        "id": "5vwinhUsF0Ro"
      },
      "source": [
        "### **Data-level Parallelism Integrating Project - MOVEMENT RECOGNITION IN SIMT**\n",
        "Submitted by:\n",
        "Cai, Edison B.\n",
        "Dequico, Beverly Joyce P.\n",
        "La’O, Erin Denise C.\n",
        "Relucio, Jan Jhezaree L."
      ]
    },
    {
      "cell_type": "code",
      "execution_count": 36,
      "metadata": {
        "colab": {
          "base_uri": "https://localhost:8080/"
        },
        "id": "JfHdKghlHi9V",
        "outputId": "4c956665-26e8-43e7-f566-432de709e979"
      },
      "outputs": [
        {
          "output_type": "stream",
          "name": "stdout",
          "text": [
            "Overwriting group5_simt.c\n"
          ]
        }
      ],
      "source": [
        "%%writefile group5_simt.c\n",
        "\n",
        "#include <stdio.h>\n",
        "#include <stdlib.h>\n",
        "#include <string.h>\n",
        "\n",
        "int main() {\n",
        "  char inputArr[20];\n",
        "  char currentChar;\n",
        "  int numSets = 0;\n",
        "  int index = 0;\n",
        "  int valid = 0;\n",
        "  int invalidCount = 0;\n",
        "  int lastPos;\n",
        "\n",
        "  while (valid == 0) {\n",
        "    printf(\"Input: \");\n",
        "    fgets(inputArr, sizeof(inputArr), stdin);  // read string\n",
        "\n",
        "    // get actual end of input\n",
        "    char *lastPosPtr = strrchr(inputArr, '\\0');\n",
        "    lastPos = (lastPosPtr == NULL ? -1 : lastPosPtr - inputArr);\n",
        "\n",
        "    // check if input is an array\n",
        "    if ((inputArr[0] != '[') && (inputArr[lastPos-1] != ']')) {\n",
        "      printf(\"Invalid input.\\n\\n\");\n",
        "    }\n",
        "    else {\n",
        "      // check if there are letters in the input\n",
        "      for (int i = 0; i < lastPos-1; i++) {\n",
        "          if ((inputArr[i] >= 'a' && inputArr[i] <= 'z') || (inputArr[i] >= 'A' && inputArr[i] <= 'Z')) {\n",
        "              invalidCount += 1; // invalid\n",
        "          }\n",
        "      }\n",
        "\n",
        "      if (invalidCount > 0) {\n",
        "          printf(\"Invalid input.\\n\\n\");\n",
        "      }\n",
        "      else {\n",
        "          // check for equal number of brackets\n",
        "          // check for 3 numbers inside each set (DONE WHILE COUNTING NUMBER OF SETS INSIDE INPUT ARRAY)\n",
        "\n",
        "          valid = 1;\n",
        "      }\n",
        "    }\n",
        "  }\n",
        "\n",
        "  printf(\"\\nNumber of sets to group: \");\n",
        "  scanf(\"%d\", &numSets);\n",
        "\n",
        "  // check if numSets <= number of sets in input array\n",
        "\n",
        "  // SOLUTION\n",
        "\n",
        "  // Results\n",
        "  printf(\"\\nRESULTS:\\n\");\n",
        "\n",
        "  return 0;\n",
        "}"
      ]
    },
    {
      "cell_type": "code",
      "execution_count": 37,
      "metadata": {
        "colab": {
          "base_uri": "https://localhost:8080/"
        },
        "id": "tAA06AxfHn8u",
        "outputId": "a66dc712-7fe9-47a2-efb1-76cd5971ba3b"
      },
      "outputs": [
        {
          "output_type": "stream",
          "name": "stdout",
          "text": [
            "Input: test\n",
            "Invalid input.\n",
            "\n",
            "Input: [[1,2,3]]\n",
            "\n",
            "Number of sets to group: 1\n",
            "\n",
            "RESULTS:\n"
          ]
        },
        {
          "output_type": "execute_result",
          "data": {
            "text/plain": []
          },
          "metadata": {},
          "execution_count": 37
        }
      ],
      "source": [
        "%%shell\n",
        "gcc group5_simt.c -o group5_simt\n",
        "./group5_simt"
      ]
    },
    {
      "cell_type": "code",
      "execution_count": null,
      "metadata": {
        "id": "n77rq7YoGuOH"
      },
      "outputs": [],
      "source": []
    }
  ],
  "metadata": {
    "colab": {
      "provenance": []
    },
    "kernelspec": {
      "display_name": "Python 3",
      "name": "python3"
    },
    "language_info": {
      "name": "python"
    }
  },
  "nbformat": 4,
  "nbformat_minor": 0
}